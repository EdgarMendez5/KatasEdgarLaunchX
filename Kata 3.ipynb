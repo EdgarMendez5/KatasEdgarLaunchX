{
 "cells": [
  {
   "cell_type": "markdown",
   "metadata": {},
   "source": [
    "Problema 1"
   ]
  },
  {
   "cell_type": "code",
   "execution_count": 3,
   "metadata": {},
   "outputs": [
    {
     "name": "stdout",
     "output_type": "stream",
     "text": [
      "Peligro\n"
     ]
    }
   ],
   "source": [
    "asteroide = 49\n",
    "if asteroide > 25:\n",
    " print (\"Peligro\") "
   ]
  },
  {
   "cell_type": "markdown",
   "metadata": {},
   "source": [
    "Problema 2"
   ]
  },
  {
   "cell_type": "code",
   "execution_count": 9,
   "metadata": {},
   "outputs": [
    {
     "name": "stdout",
     "output_type": "stream",
     "text": [
      "No hay nada que ver\n"
     ]
    }
   ],
   "source": [
    "asteroide = 19\n",
    "if asteroide > 20:\n",
    "    print (\"Vean el cielo\")\n",
    "elif asteroide == 20:\n",
    "    print(\"Miren al cielo\")\n",
    "else:\n",
    "    print(\"No hay nada que ver\")"
   ]
  },
  {
   "cell_type": "markdown",
   "metadata": {},
   "source": [
    "Problema 3"
   ]
  },
  {
   "cell_type": "code",
   "execution_count": 23,
   "metadata": {},
   "outputs": [
    {
     "name": "stdout",
     "output_type": "stream",
     "text": [
      "Vean al cielo\n"
     ]
    }
   ],
   "source": [
    "velocidad_asteroide = 25\n",
    "asteroide = 50\n",
    "if velocidad_asteroide > 25 and asteroide > 25:\n",
    "    print(\"Peligro\")\n",
    "elif velocidad_asteroide >= 20 or asteroide < 25:\n",
    "    print(\"Vean al cielo\")\n",
    "else:\n",
    "    print (\"Todo tranquilo\")"
   ]
  }
 ],
 "metadata": {
  "interpreter": {
   "hash": "9eb8b1bd7fed3a088773fde3c8981427b67d198a11effb04850ec590fb89a920"
  },
  "kernelspec": {
   "display_name": "Python 3.10.2 64-bit",
   "language": "python",
   "name": "python3"
  },
  "language_info": {
   "codemirror_mode": {
    "name": "ipython",
    "version": 3
   },
   "file_extension": ".py",
   "mimetype": "text/x-python",
   "name": "python",
   "nbconvert_exporter": "python",
   "pygments_lexer": "ipython3",
   "version": "3.10.2"
  },
  "orig_nbformat": 4
 },
 "nbformat": 4,
 "nbformat_minor": 2
}
