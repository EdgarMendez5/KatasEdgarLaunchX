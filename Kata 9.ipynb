{
 "cells": [
  {
   "cell_type": "markdown",
   "metadata": {},
   "source": [
    "Ejercicio 1"
   ]
  },
  {
   "cell_type": "code",
   "execution_count": 10,
   "metadata": {},
   "outputs": [
    {
     "name": "stdout",
     "output_type": "stream",
     "text": [
      "Reporte de combustible:\n",
      "    Total: 78.33333333333333%\n",
      "    Tanque_1: 80%\n",
      "    Tanque_2: 70%\n",
      "    Tanque_3: 85% \n",
      "    \n",
      "Reporte de combustible:\n",
      "    Total Average: 78.0%\n",
      "    Tanque_1: 88%\n",
      "    Tanque_2: 76%\n",
      "    Tanque_3: 70% \n",
      "    \n"
     ]
    }
   ],
   "source": [
    "def generate_report(tanque_1, tanque_2, tanque_3):\n",
    "    total_average = (tanque_1 + tanque_2 + tanque_3) / 3\n",
    "    return f\"\"\"Reporte de combustible:\n",
    "    Total: {total_average}%\n",
    "    Tanque_1: {tanque_1}%\n",
    "    Tanque_2: {tanque_2}%\n",
    "    Tanque_3: {tanque_3}% \n",
    "    \"\"\"\n",
    "\n",
    "print(generate_report(80, 70, 85))\n",
    "\n",
    "def average(values):\n",
    "    total = sum(values)\n",
    "    number_of_items = len(values)\n",
    "    return total / number_of_items\n",
    "\n",
    "average([80, 85, 81]) \n",
    "\n",
    "def generate_report(tanque_1, tanque_2, tanque_3):\n",
    "    return f\"\"\"Reporte de combustible:\n",
    "    Total Average: {average([tanque_1, tanque_2, tanque_3])}%\n",
    "    Tanque_1: {tanque_1}%\n",
    "    Tanque_2: {tanque_2}%\n",
    "    Tanque_3: {tanque_3}% \n",
    "    \"\"\"\n",
    "\n",
    "print(generate_report(88, 76, 70))"
   ]
  },
  {
   "cell_type": "markdown",
   "metadata": {},
   "source": [
    "Ejercicio 2"
   ]
  },
  {
   "cell_type": "code",
   "execution_count": 11,
   "metadata": {},
   "outputs": [
    {
     "name": "stdout",
     "output_type": "stream",
     "text": [
      "\n",
      "    Mission to Moon\n",
      "    Total travel time: 65 minutos\n",
      "    Total fuel left: 500000 galones\n",
      "    \n",
      "\n",
      "    Mission to Moon\n",
      "    Total travel time: 76 minutos\n",
      "    Total fuel left: 500000 galones\n",
      "    \n",
      "\n",
      "    Mission to Moon\n",
      "    Total travel time: 74 minutos\n",
      "    Total fuel left: 500000 galones\n",
      "    main tank --> 300000 galones quedan\n",
      "external tank --> 200000 galones quedan\n",
      "\n"
     ]
    }
   ],
   "source": [
    "def mission_report(pre_launch_time, flight_time, destination, external_tank, main_tank):\n",
    "    return f\"\"\"\n",
    "    Mission to {destination}\n",
    "    Total travel time: {pre_launch_time + flight_time} minutos\n",
    "    Total fuel left: {external_tank + main_tank} galones\n",
    "    \"\"\"\n",
    "print(mission_report(14, 51, \"Moon\", 200000, 300000))\n",
    "\n",
    "def mission_report(destination, *minutes, **fuel_reservoirs):\n",
    "    return f\"\"\"\n",
    "    Mission to {destination}\n",
    "    Total travel time: {sum(minutes)} minutos\n",
    "    Total fuel left: {sum(fuel_reservoirs.values())} galones\n",
    "    \"\"\"\n",
    "print(mission_report(\"Moon\", 10, 15, 51, main=300000, external=200000))\n",
    "\n",
    "def mission_report(destination, *minutes, **fuel_reservoirs):\n",
    "    main_report = f\"\"\"\n",
    "    Mission to {destination}\n",
    "    Total travel time: {sum(minutes)} minutos\n",
    "    Total fuel left: {sum(fuel_reservoirs.values())} galones\n",
    "    \"\"\"\n",
    "    for tank_name, gallons in fuel_reservoirs.items():\n",
    "        main_report += f\"{tank_name} tank --> {gallons} galones quedan\\n\"\n",
    "    return main_report\n",
    "print(mission_report(\"Moon\", 8, 11, 55, main=300000, external=200000))"
   ]
  }
 ],
 "metadata": {
  "interpreter": {
   "hash": "9eb8b1bd7fed3a088773fde3c8981427b67d198a11effb04850ec590fb89a920"
  },
  "kernelspec": {
   "display_name": "Python 3.10.2 64-bit",
   "language": "python",
   "name": "python3"
  },
  "language_info": {
   "codemirror_mode": {
    "name": "ipython",
    "version": 3
   },
   "file_extension": ".py",
   "mimetype": "text/x-python",
   "name": "python",
   "nbconvert_exporter": "python",
   "pygments_lexer": "ipython3",
   "version": "3.10.2"
  },
  "orig_nbformat": 4
 },
 "nbformat": 4,
 "nbformat_minor": 2
}
